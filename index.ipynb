{
 "cells": [
  {
   "cell_type": "markdown",
   "metadata": {},
   "source": [
    "# Introduction\n",
    "\n",
    "For today's section, we're going to work on a single big lab to apply what we've learned so far about APIs, databases and hypothesis testing! We will be making use of SQLite and MongoDB Atlas\n",
    "\n",
    "### About This Lab\n",
    "\n",
    "A quick note before getting started--this lab isn't like other labs you seen so far. This lab is meant to take the whole day to complete, so it's much longer and more challenging than the average labs you've seen so far. If you feel that you might be struggling a bit, don't fret--that's by design! With everything we've learned about statistics, APIs, and Databases, the best way to test our knowledge of it is to build something substantial!"
   ]
  },
  {
   "cell_type": "markdown",
   "metadata": {},
   "source": [
    "# The Context\n",
    "\n",
    "You have just started your new job on the data science team at ESPN. The team is very busy and on an extreamly tight deadline. Your new boss has asked you to solve two problems on your first day:\n",
    "\n",
    "\n",
    "### 1. Designing a Data Pipeline\n",
    "Every year we need to move our raw data from a SQLite database, aggregate it, and store it in a Mongodb Atlas instance where all of our different analysts can have access to these statistics. In order to make this process as painless as possbile you are charged with automating this once long and tendious process.\n",
    "\n",
    "Create a function which will take the Season as an arguement and execute the following:\n",
    "```python\n",
    "def pipeline(season):\n",
    "    pass\n",
    "```\n",
    "* Aggregate match statistics from a SQLite database in the file `database.sqlite`\n",
    "    * A data dictionary available [here](https://www.kaggle.com/laudanum/footballdelphi)\n",
    "* Combine match information with weather data from the [DarkSky API](https://darksky.net/dev)\n",
    "* Insert data into MongoDB Atlas where each row contains the following information:\n",
    "        * Team Name\n",
    "        * League (either English Premier League (E0) or Bundesliga (D1))\n",
    "        * Season\n",
    "        * Total number of goals scored by the team during the season\n",
    "        * Total number of wins the team earned during the season\n",
    "        * Team's win percentage on days where it was raining during games in the season\n",
    "\n",
    "#### Getting the Weather Data\n",
    "\n",
    "Note that for this last calculation, you'll need to figure out if it was raining or not during the game. The database itself does not contain this information, but it does contain the date on which the game was played. For this, you'll need to use the [DarkSky API](https://darksky.net/dev) to get the historical weather data for that day. Note that each game is played in a different location, and this information is not contained in our SQL database. However, the teams in this database are largely german, so go ahead and just use the weather in Berlin, Germany as a proxy for this information. If it was raining in Berlin on the day the game was played, count that as rain game--**_you do not need to try and figure out the actual weather at each game's location, because we don't have that information!_**\n",
    "\n",
    "**NOTE: The DarkSky API is limited to 1000 free API calls a day, so be sure to test your model on very small samples. Otherwise, you'll hit the rate limit!**"
   ]
  },
  {
   "cell_type": "markdown",
   "metadata": {},
   "source": [
    "### Rapid Prototyping and Refactoring\n",
    "\n",
    "When experimenting with the DarkSky API for getting historical weather data, it makes sense to just write the code in the cells and rapidly iterate until you get it all working. However, once you get it working, you're not done--you should then **_Refactor_** your code into functions to make your code more modular, reusable, understandable, and maintainable!\n",
    "\n",
    "In short--do what you need to do to get each separate piece of functionality working, and then refactor it into functions after you've figured it out!"
   ]
  },
  {
   "cell_type": "markdown",
   "metadata": {},
   "source": [
    "### MongoDB Atlas\n",
    "\n",
    "To set up your MongoDB Atlas instance follow these [directions](https://docs.google.com/document/d/1ghOi6jd0Nw4jOOOevuUpncuRAEOdEEC28NUI0pqUyFA/edit)\n",
    "\n",
    "If you need a refresher on using Mongodb check out their docs [here.](https://api.mongodb.com/python/current/tutorial.html)"
   ]
  },
  {
   "cell_type": "markdown",
   "metadata": {},
   "source": [
    "#### Deliverable\n",
    "- A well documented .py file containing all of your code for the pipeline function\n",
    "- Insert data from the 2016/17 and 2017/18 season from the SQLite database into your MongoDB Atlas instance"
   ]
  },
  {
   "cell_type": "markdown",
   "metadata": {},
   "source": [
    "----------------------------------------------------------------------------------------------------"
   ]
  },
  {
   "cell_type": "markdown",
   "metadata": {},
   "source": [
    "### 2. Hypothesis Testing\n",
    "By the end of day today ESPN needs to make a decision about which European league broadcasting rights it wants to buy. The budget for the team only allows us to purchase the rights to either the English Premier League or the German Bundesliga. Your boss has decided that American audiences are more likely to tune into soccer games where there are a high number of goals scored and she has a hunch that the English Premier League has a higher goals per game. We need you to run an analysis of the two leagues to test her hunch:\n",
    "\n",
    "__Does the English Premier League have more goals per game than in Bundesliga in the 2017/2018 season?__\n",
    "\n",
    "\n",
    "#### Deliverable\n",
    "The deliverable here is a well documented jupyter notebook detailing your process and provide a final recommendation to your boss regarding the broadcasting rights. Make sure that you define the null and alternative hypothesis, describe which statistical test you used and why it is appropriate. All assumptions you are making should be made explicit."
   ]
  },
  {
   "cell_type": "markdown",
   "metadata": {},
   "source": [
    "### Some Final Advice\n",
    "\n",
    "You haven't built anything this big or complex thus far, so you may not yet fully realize how much trial and error goes into it. If your code keeps breaking, resist the urge to get frustrated, and just keep working. Software development is an iterative process!  No one writes perfect code that works the first time for something this involved. You're going to run into _a lot_ of small errors in this project, right up until the point where it just works, and then you're done! However, you can reduce these errors by planning out your code, and thinking about how all of the pieces fit together before you begin coding. Once you have some basic understanding of how it all will work, then you'll know what you need to build, and then all that is left is to build it!\n",
    "\n",
    "In short:\n",
    "\n",
    "* Plan ahead--you'll thank yourself later!\n",
    "* Errors and broken code aren't bad, they're normal. \n",
    "* Keep working, and stay confident--you can do this!\n",
    "\n",
    "Good luck--we look forward to seeing your completed project!"
   ]
  },
  {
   "cell_type": "markdown",
   "metadata": {},
   "source": [
    "# Summary\n",
    "\n",
    "In this lab, we dug deep and used everything we've learned so far about python programming, databases, HTTP requests and API calls to ETL data from a SQL database into a MongoDB Atlas instance!"
   ]
  }
 ],
 "metadata": {
  "kernelspec": {
   "display_name": "Python 3",
   "language": "python",
   "name": "python3"
  },
  "language_info": {
   "codemirror_mode": {
    "name": "ipython",
    "version": 3
   },
   "file_extension": ".py",
   "mimetype": "text/x-python",
   "name": "python",
   "nbconvert_exporter": "python",
   "pygments_lexer": "ipython3",
   "version": "3.7.3"
  }
 },
 "nbformat": 4,
 "nbformat_minor": 2
}
